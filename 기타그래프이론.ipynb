{
  "nbformat": 4,
  "nbformat_minor": 0,
  "metadata": {
    "colab": {
      "name": "기타그래프이론.ipynb",
      "provenance": [],
      "collapsed_sections": [],
      "authorship_tag": "ABX9TyPN3Zm/t1/UF+EBEPUP/m9Q",
      "include_colab_link": true
    },
    "kernelspec": {
      "name": "python3",
      "display_name": "Python 3"
    },
    "language_info": {
      "name": "python"
    }
  },
  "cells": [
    {
      "cell_type": "markdown",
      "metadata": {
        "id": "view-in-github",
        "colab_type": "text"
      },
      "source": [
        "<a href=\"https://colab.research.google.com/github/Suhyun77/Algorithm-and-Data-Structure/blob/main/%EA%B8%B0%ED%83%80%EA%B7%B8%EB%9E%98%ED%94%84%EC%9D%B4%EB%A1%A0.ipynb\" target=\"_parent\"><img src=\"https://colab.research.google.com/assets/colab-badge.svg\" alt=\"Open In Colab\"/></a>"
      ]
    },
    {
      "cell_type": "markdown",
      "source": [
        "# **기타 그래프 이론**"
      ],
      "metadata": {
        "id": "WewaeuZcl-ln"
      }
    },
    {
      "cell_type": "markdown",
      "source": [
        "## 서로소 집합(Disjoint Sets) 자료구조"
      ],
      "metadata": {
        "id": "Lh2sI6UomhdV"
      }
    },
    {
      "cell_type": "markdown",
      "source": [
        "- 서로소 집합 : 공통 원소가 없는 두 집합\n",
        "- 서로소 집합 자료구조 : 서로소 부분 집합들로 나누어진 원소들의 데이터를 처리하기 위한 자료구조\n",
        "- 합치기 찾기(Union Find) 자료구조\n",
        "    - 합집합(Union) : 두 개의 원소가 포함된 집합을 하나의 집합으로 합치는 연산\n",
        "    - 찾기(Find) : 특정한 원소가 속한 집합이 어떤 집합인지 알려주는 연산"
      ],
      "metadata": {
        "id": "guHk0kc4mnaf"
      }
    },
    {
      "cell_type": "code",
      "source": [
        "### 기본적인 구현 방법 ###\n",
        "\n",
        "# 특정 원소가 속한 집합을 찾기\n",
        "def find_parent(parent, x):\n",
        "    #루트 노드를 찾을 때까지 재귀 호출\n",
        "    if parent[x] != x:\n",
        "        return find_parent(parent, parent[x])\n",
        "    return x\n",
        "\n",
        "# 두 원소가 속한 집합을 합치기\n",
        "def union_parent(parent, a, b):\n",
        "    a = find_parent(parent, a)\n",
        "    b = find_parent(parent, b)\n",
        "    if a < b:\n",
        "        parent[b] = a\n",
        "    else:\n",
        "        parent[a] = b\n",
        "\n",
        "# 노드의 개수와 간선(Union 연산)의 개수 입력 받기\n",
        "v, e = map(int, input().split())\n",
        "parent = [0] * (v+1)  # 부모 테이블 초기화하기\n",
        "\n",
        "# 부모 테이블상에서, 부모를 자기 자신으로 초기화\n",
        "for i in range(1, v+1):\n",
        "    parent[i] = i\n",
        "\n",
        "# Union 연산을 각각 수행\n",
        "for i in range(e):\n",
        "    a, b = map(int, input().split())\n",
        "    union_parent(parent, a, b)\n",
        "\n",
        "# 각 원소가 속한 집합 출력하기\n",
        "print('각 원소가 속한 집합: ', end='')\n",
        "for i in range(1, v+1):\n",
        "    print(find_parent(parent, i), end=' ')\n",
        "\n",
        "print()\n",
        "\n",
        "# 부모 테이블 내용 출력하기\n",
        "print('부모 테이블: ', end='')\n",
        "for i in range(1, v+1):oi\n",
        "    print(parent[i], end=' ')"
      ],
      "metadata": {
        "id": "ssp2y-SRmmIH"
      },
      "execution_count": null,
      "outputs": []
    },
    {
      "cell_type": "markdown",
      "source": [
        "[기본적인 구현 방법의 문제점]\n",
        "\n",
        "- 합집합(Union) 연산이 편향되게 이루어지는 경우 찾기(Find) 함수가 비효율적으로 동작\n",
        "- 최악의 경우 찾기(Find) 함수가 모든 노드를 다 확인하게 되어 시간 복잡도가 O(V)\n",
        "\n",
        "[경로 압축]\n",
        "\n",
        "- 찾기(Find) 함수를 최적화하기 위한 방법\n",
        "- 찾기(Find) 함수를 재귀적으로 호출한 뒤에 부모 테이블 값을 바로 갱신\n",
        "```python\n",
        "#특정 원소가 속한 집합을 찾기\n",
        "def find_parent(parent, x):\n",
        "    # 루트 노드가 아니라면, 루트 노드를 찾을 때까지 재귀적으로 호출\n",
        "    if parent[x] != x:\n",
        "        parent[x] = find_parent(parent, parent[x])\n",
        "    return parent[x]\n",
        "```\n"
      ],
      "metadata": {
        "id": "Wzuhr5s1urbO"
      }
    }
  ]
}